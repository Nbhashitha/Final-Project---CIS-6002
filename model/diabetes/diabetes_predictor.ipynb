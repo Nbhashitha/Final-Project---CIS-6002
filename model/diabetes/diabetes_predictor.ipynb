{
  "nbformat": 4,
  "nbformat_minor": 0,
  "metadata": {
    "colab": {
      "name": "diabetes_predictor.ipynb",
      "provenance": [],
      "collapsed_sections": [
        "9yjIkVhH358s",
        "X765yz2_fCob",
        "Z6RtDc2dg78B"
      ],
      "authorship_tag": "ABX9TyOpHlmJLeRbJUj0jjZe1SQu",
      "include_colab_link": true
    },
    "kernelspec": {
      "name": "python3",
      "display_name": "Python 3"
    },
    "language_info": {
      "name": "python"
    }
  },
  "cells": [
    {
      "cell_type": "markdown",
      "metadata": {
        "id": "view-in-github",
        "colab_type": "text"
      },
      "source": [
        "<a href=\"https://colab.research.google.com/github/codev-pro/disease-predictor/blob/main/model/diabetes/diabetes_predictor.ipynb\" target=\"_parent\"><img src=\"https://colab.research.google.com/assets/colab-badge.svg\" alt=\"Open In Colab\"/></a>"
      ]
    },
    {
      "cell_type": "markdown",
      "source": [
        "# **Importing Dependecies for the classification**"
      ],
      "metadata": {
        "id": "y3BKawq7ReP5"
      }
    },
    {
      "cell_type": "code",
      "source": [
        "import numpy as np\n",
        "import pandas as pd\n",
        "from sklearn.preprocessing import StandardScaler\n",
        "from sklearn.model_selection import train_test_split\n",
        "from sklearn import svm\n",
        "from sklearn.metrics import accuracy_score"
      ],
      "metadata": {
        "id": "go-ofLqqRoz5"
      },
      "execution_count": 13,
      "outputs": []
    },
    {
      "cell_type": "markdown",
      "source": [
        "Data Collection and Analysis"
      ],
      "metadata": {
        "id": "mHhBxcnwTvBq"
      }
    },
    {
      "cell_type": "code",
      "source": [
        "# Import dataset to the development environment\n",
        "diabetes_dataset = pd.read_csv('https://raw.githubusercontent.com/PulasthiAbey/Datasets/main/Diabetes/diabetesFinalValues.csv')"
      ],
      "metadata": {
        "id": "oIsWHy0pTyDN"
      },
      "execution_count": 14,
      "outputs": []
    },
    {
      "cell_type": "code",
      "source": [
        "# Checking the dataframes in the dataset\n",
        "diabetes_dataset.head()"
      ],
      "metadata": {
        "colab": {
          "base_uri": "https://localhost:8080/",
          "height": 372
        },
        "id": "NCixvEIXV5j1",
        "outputId": "d89d6ed6-dce7-4bb8-a5b2-26462a3b4ba4"
      },
      "execution_count": 15,
      "outputs": [
        {
          "output_type": "execute_result",
          "data": {
            "text/plain": [
              "       HbA1c  Height  Weight        BMI Duration of disease  \\\n",
              "0  Over 7.5%    1.50    56.0  24.888889                  4y   \n",
              "1  Over 7.5%    1.48    58.0  26.479182                  1w   \n",
              "2  Over 7.5%    1.20    46.0  31.944444                  9d   \n",
              "3  Over 7.5%    1.65    50.0  18.365473                  1w   \n",
              "4  Over 7.5%    1.61    59.0  22.761468                  1m   \n",
              "\n",
              "   Other diease value  Adequate Nutrition Values  Autoantibodies Values  \\\n",
              "0                   0                          0                      1   \n",
              "1                   0                          0                      1   \n",
              "2                   0                          1                      1   \n",
              "3                   0                          1                      0   \n",
              "4                   1                          1                      1   \n",
              "\n",
              "   Impaired glucose metabolism values  Insulin taken value  \\\n",
              "0                                   1                    1   \n",
              "1                                   0                    1   \n",
              "2                                   0                    1   \n",
              "3                                   0                    1   \n",
              "4                                   0                    1   \n",
              "\n",
              "   Family History affected in Type 1 Diabetes values  \\\n",
              "0                                                  1   \n",
              "1                                                  1   \n",
              "2                                                  1   \n",
              "3                                                  0   \n",
              "4                                                  1   \n",
              "\n",
              "   Family History affected in Type 2 Diabetes values  Hypoglycemis Values  \\\n",
              "0                                                  0                    1   \n",
              "1                                                  1                    1   \n",
              "2                                                  0                    0   \n",
              "3                                                  1                    0   \n",
              "4                                                  1                    0   \n",
              "\n",
              "   pancreatic disease affected in child values  Affected Values  \n",
              "0                                            1                1  \n",
              "1                                            1                1  \n",
              "2                                            0                1  \n",
              "3                                            0                1  \n",
              "4                                            0                1  "
            ],
            "text/html": [
              "\n",
              "  <div id=\"df-0d233028-dd86-4f36-a3c8-e287ca1d2a7e\">\n",
              "    <div class=\"colab-df-container\">\n",
              "      <div>\n",
              "<style scoped>\n",
              "    .dataframe tbody tr th:only-of-type {\n",
              "        vertical-align: middle;\n",
              "    }\n",
              "\n",
              "    .dataframe tbody tr th {\n",
              "        vertical-align: top;\n",
              "    }\n",
              "\n",
              "    .dataframe thead th {\n",
              "        text-align: right;\n",
              "    }\n",
              "</style>\n",
              "<table border=\"1\" class=\"dataframe\">\n",
              "  <thead>\n",
              "    <tr style=\"text-align: right;\">\n",
              "      <th></th>\n",
              "      <th>HbA1c</th>\n",
              "      <th>Height</th>\n",
              "      <th>Weight</th>\n",
              "      <th>BMI</th>\n",
              "      <th>Duration of disease</th>\n",
              "      <th>Other diease value</th>\n",
              "      <th>Adequate Nutrition Values</th>\n",
              "      <th>Autoantibodies Values</th>\n",
              "      <th>Impaired glucose metabolism values</th>\n",
              "      <th>Insulin taken value</th>\n",
              "      <th>Family History affected in Type 1 Diabetes values</th>\n",
              "      <th>Family History affected in Type 2 Diabetes values</th>\n",
              "      <th>Hypoglycemis Values</th>\n",
              "      <th>pancreatic disease affected in child values</th>\n",
              "      <th>Affected Values</th>\n",
              "    </tr>\n",
              "  </thead>\n",
              "  <tbody>\n",
              "    <tr>\n",
              "      <th>0</th>\n",
              "      <td>Over 7.5%</td>\n",
              "      <td>1.50</td>\n",
              "      <td>56.0</td>\n",
              "      <td>24.888889</td>\n",
              "      <td>4y</td>\n",
              "      <td>0</td>\n",
              "      <td>0</td>\n",
              "      <td>1</td>\n",
              "      <td>1</td>\n",
              "      <td>1</td>\n",
              "      <td>1</td>\n",
              "      <td>0</td>\n",
              "      <td>1</td>\n",
              "      <td>1</td>\n",
              "      <td>1</td>\n",
              "    </tr>\n",
              "    <tr>\n",
              "      <th>1</th>\n",
              "      <td>Over 7.5%</td>\n",
              "      <td>1.48</td>\n",
              "      <td>58.0</td>\n",
              "      <td>26.479182</td>\n",
              "      <td>1w</td>\n",
              "      <td>0</td>\n",
              "      <td>0</td>\n",
              "      <td>1</td>\n",
              "      <td>0</td>\n",
              "      <td>1</td>\n",
              "      <td>1</td>\n",
              "      <td>1</td>\n",
              "      <td>1</td>\n",
              "      <td>1</td>\n",
              "      <td>1</td>\n",
              "    </tr>\n",
              "    <tr>\n",
              "      <th>2</th>\n",
              "      <td>Over 7.5%</td>\n",
              "      <td>1.20</td>\n",
              "      <td>46.0</td>\n",
              "      <td>31.944444</td>\n",
              "      <td>9d</td>\n",
              "      <td>0</td>\n",
              "      <td>1</td>\n",
              "      <td>1</td>\n",
              "      <td>0</td>\n",
              "      <td>1</td>\n",
              "      <td>1</td>\n",
              "      <td>0</td>\n",
              "      <td>0</td>\n",
              "      <td>0</td>\n",
              "      <td>1</td>\n",
              "    </tr>\n",
              "    <tr>\n",
              "      <th>3</th>\n",
              "      <td>Over 7.5%</td>\n",
              "      <td>1.65</td>\n",
              "      <td>50.0</td>\n",
              "      <td>18.365473</td>\n",
              "      <td>1w</td>\n",
              "      <td>0</td>\n",
              "      <td>1</td>\n",
              "      <td>0</td>\n",
              "      <td>0</td>\n",
              "      <td>1</td>\n",
              "      <td>0</td>\n",
              "      <td>1</td>\n",
              "      <td>0</td>\n",
              "      <td>0</td>\n",
              "      <td>1</td>\n",
              "    </tr>\n",
              "    <tr>\n",
              "      <th>4</th>\n",
              "      <td>Over 7.5%</td>\n",
              "      <td>1.61</td>\n",
              "      <td>59.0</td>\n",
              "      <td>22.761468</td>\n",
              "      <td>1m</td>\n",
              "      <td>1</td>\n",
              "      <td>1</td>\n",
              "      <td>1</td>\n",
              "      <td>0</td>\n",
              "      <td>1</td>\n",
              "      <td>1</td>\n",
              "      <td>1</td>\n",
              "      <td>0</td>\n",
              "      <td>0</td>\n",
              "      <td>1</td>\n",
              "    </tr>\n",
              "  </tbody>\n",
              "</table>\n",
              "</div>\n",
              "      <button class=\"colab-df-convert\" onclick=\"convertToInteractive('df-0d233028-dd86-4f36-a3c8-e287ca1d2a7e')\"\n",
              "              title=\"Convert this dataframe to an interactive table.\"\n",
              "              style=\"display:none;\">\n",
              "        \n",
              "  <svg xmlns=\"http://www.w3.org/2000/svg\" height=\"24px\"viewBox=\"0 0 24 24\"\n",
              "       width=\"24px\">\n",
              "    <path d=\"M0 0h24v24H0V0z\" fill=\"none\"/>\n",
              "    <path d=\"M18.56 5.44l.94 2.06.94-2.06 2.06-.94-2.06-.94-.94-2.06-.94 2.06-2.06.94zm-11 1L8.5 8.5l.94-2.06 2.06-.94-2.06-.94L8.5 2.5l-.94 2.06-2.06.94zm10 10l.94 2.06.94-2.06 2.06-.94-2.06-.94-.94-2.06-.94 2.06-2.06.94z\"/><path d=\"M17.41 7.96l-1.37-1.37c-.4-.4-.92-.59-1.43-.59-.52 0-1.04.2-1.43.59L10.3 9.45l-7.72 7.72c-.78.78-.78 2.05 0 2.83L4 21.41c.39.39.9.59 1.41.59.51 0 1.02-.2 1.41-.59l7.78-7.78 2.81-2.81c.8-.78.8-2.07 0-2.86zM5.41 20L4 18.59l7.72-7.72 1.47 1.35L5.41 20z\"/>\n",
              "  </svg>\n",
              "      </button>\n",
              "      \n",
              "  <style>\n",
              "    .colab-df-container {\n",
              "      display:flex;\n",
              "      flex-wrap:wrap;\n",
              "      gap: 12px;\n",
              "    }\n",
              "\n",
              "    .colab-df-convert {\n",
              "      background-color: #E8F0FE;\n",
              "      border: none;\n",
              "      border-radius: 50%;\n",
              "      cursor: pointer;\n",
              "      display: none;\n",
              "      fill: #1967D2;\n",
              "      height: 32px;\n",
              "      padding: 0 0 0 0;\n",
              "      width: 32px;\n",
              "    }\n",
              "\n",
              "    .colab-df-convert:hover {\n",
              "      background-color: #E2EBFA;\n",
              "      box-shadow: 0px 1px 2px rgba(60, 64, 67, 0.3), 0px 1px 3px 1px rgba(60, 64, 67, 0.15);\n",
              "      fill: #174EA6;\n",
              "    }\n",
              "\n",
              "    [theme=dark] .colab-df-convert {\n",
              "      background-color: #3B4455;\n",
              "      fill: #D2E3FC;\n",
              "    }\n",
              "\n",
              "    [theme=dark] .colab-df-convert:hover {\n",
              "      background-color: #434B5C;\n",
              "      box-shadow: 0px 1px 3px 1px rgba(0, 0, 0, 0.15);\n",
              "      filter: drop-shadow(0px 1px 2px rgba(0, 0, 0, 0.3));\n",
              "      fill: #FFFFFF;\n",
              "    }\n",
              "  </style>\n",
              "\n",
              "      <script>\n",
              "        const buttonEl =\n",
              "          document.querySelector('#df-0d233028-dd86-4f36-a3c8-e287ca1d2a7e button.colab-df-convert');\n",
              "        buttonEl.style.display =\n",
              "          google.colab.kernel.accessAllowed ? 'block' : 'none';\n",
              "\n",
              "        async function convertToInteractive(key) {\n",
              "          const element = document.querySelector('#df-0d233028-dd86-4f36-a3c8-e287ca1d2a7e');\n",
              "          const dataTable =\n",
              "            await google.colab.kernel.invokeFunction('convertToInteractive',\n",
              "                                                     [key], {});\n",
              "          if (!dataTable) return;\n",
              "\n",
              "          const docLinkHtml = 'Like what you see? Visit the ' +\n",
              "            '<a target=\"_blank\" href=https://colab.research.google.com/notebooks/data_table.ipynb>data table notebook</a>'\n",
              "            + ' to learn more about interactive tables.';\n",
              "          element.innerHTML = '';\n",
              "          dataTable['output_type'] = 'display_data';\n",
              "          await google.colab.output.renderOutput(dataTable, element);\n",
              "          const docLink = document.createElement('div');\n",
              "          docLink.innerHTML = docLinkHtml;\n",
              "          element.appendChild(docLink);\n",
              "        }\n",
              "      </script>\n",
              "    </div>\n",
              "  </div>\n",
              "  "
            ]
          },
          "metadata": {},
          "execution_count": 15
        }
      ]
    },
    {
      "cell_type": "code",
      "source": [
        "# Number of rows and columns in the dataset\n",
        "diabetes_dataset.shape"
      ],
      "metadata": {
        "colab": {
          "base_uri": "https://localhost:8080/"
        },
        "id": "jzOWT2TlCCgm",
        "outputId": "2841f277-2574-4897-b66d-bc68712105ee"
      },
      "execution_count": 16,
      "outputs": [
        {
          "output_type": "execute_result",
          "data": {
            "text/plain": [
              "(306, 15)"
            ]
          },
          "metadata": {},
          "execution_count": 16
        }
      ]
    },
    {
      "cell_type": "code",
      "source": [
        "# Getting the Statistical measures of the dataset\n",
        "diabetes_dataset.describe()"
      ],
      "metadata": {
        "colab": {
          "base_uri": "https://localhost:8080/",
          "height": 379
        },
        "id": "RJ0vzCHaCWQi",
        "outputId": "5a3654c6-7138-402e-b56d-1f0798690ed9"
      },
      "execution_count": 17,
      "outputs": [
        {
          "output_type": "execute_result",
          "data": {
            "text/plain": [
              "           Height      Weight         BMI  Other diease value  \\\n",
              "count  306.000000  306.000000  306.000000          306.000000   \n",
              "mean     1.349346   38.854575   20.860711            0.209150   \n",
              "std      0.277601   16.689427    6.225745            0.407368   \n",
              "min      0.440000    5.000000   10.077936            0.000000   \n",
              "25%      1.220000   25.000000   16.928286            0.000000   \n",
              "50%      1.420000   40.000000   19.813209            0.000000   \n",
              "75%      1.560000   50.000000   23.711124            0.000000   \n",
              "max      1.830000   87.000000   61.983471            1.000000   \n",
              "\n",
              "       Adequate Nutrition Values  Autoantibodies Values  \\\n",
              "count                 306.000000             306.000000   \n",
              "mean                    0.732026               0.797386   \n",
              "std                     0.443629               0.402606   \n",
              "min                     0.000000               0.000000   \n",
              "25%                     0.000000               1.000000   \n",
              "50%                     1.000000               1.000000   \n",
              "75%                     1.000000               1.000000   \n",
              "max                     1.000000               1.000000   \n",
              "\n",
              "       Impaired glucose metabolism values  Insulin taken value  \\\n",
              "count                          306.000000           306.000000   \n",
              "mean                             0.189542             0.496732   \n",
              "std                              0.392581             0.500808   \n",
              "min                              0.000000             0.000000   \n",
              "25%                              0.000000             0.000000   \n",
              "50%                              0.000000             0.000000   \n",
              "75%                              0.000000             1.000000   \n",
              "max                              1.000000             1.000000   \n",
              "\n",
              "       Family History affected in Type 1 Diabetes values  \\\n",
              "count                                         306.000000   \n",
              "mean                                            0.294118   \n",
              "std                                             0.456391   \n",
              "min                                             0.000000   \n",
              "25%                                             0.000000   \n",
              "50%                                             0.000000   \n",
              "75%                                             1.000000   \n",
              "max                                             1.000000   \n",
              "\n",
              "       Family History affected in Type 2 Diabetes values  Hypoglycemis Values  \\\n",
              "count                                         306.000000           306.000000   \n",
              "mean                                            0.457516             0.333333   \n",
              "std                                             0.499008             0.472177   \n",
              "min                                             0.000000             0.000000   \n",
              "25%                                             0.000000             0.000000   \n",
              "50%                                             0.000000             0.000000   \n",
              "75%                                             1.000000             1.000000   \n",
              "max                                             1.000000             1.000000   \n",
              "\n",
              "       pancreatic disease affected in child values  Affected Values  \n",
              "count                                   306.000000       306.000000  \n",
              "mean                                      0.248366         0.496732  \n",
              "std                                       0.432773         0.500808  \n",
              "min                                       0.000000         0.000000  \n",
              "25%                                       0.000000         0.000000  \n",
              "50%                                       0.000000         0.000000  \n",
              "75%                                       0.000000         1.000000  \n",
              "max                                       1.000000         1.000000  "
            ],
            "text/html": [
              "\n",
              "  <div id=\"df-520f8fe4-0fc8-4b98-9823-3d0498319106\">\n",
              "    <div class=\"colab-df-container\">\n",
              "      <div>\n",
              "<style scoped>\n",
              "    .dataframe tbody tr th:only-of-type {\n",
              "        vertical-align: middle;\n",
              "    }\n",
              "\n",
              "    .dataframe tbody tr th {\n",
              "        vertical-align: top;\n",
              "    }\n",
              "\n",
              "    .dataframe thead th {\n",
              "        text-align: right;\n",
              "    }\n",
              "</style>\n",
              "<table border=\"1\" class=\"dataframe\">\n",
              "  <thead>\n",
              "    <tr style=\"text-align: right;\">\n",
              "      <th></th>\n",
              "      <th>Height</th>\n",
              "      <th>Weight</th>\n",
              "      <th>BMI</th>\n",
              "      <th>Other diease value</th>\n",
              "      <th>Adequate Nutrition Values</th>\n",
              "      <th>Autoantibodies Values</th>\n",
              "      <th>Impaired glucose metabolism values</th>\n",
              "      <th>Insulin taken value</th>\n",
              "      <th>Family History affected in Type 1 Diabetes values</th>\n",
              "      <th>Family History affected in Type 2 Diabetes values</th>\n",
              "      <th>Hypoglycemis Values</th>\n",
              "      <th>pancreatic disease affected in child values</th>\n",
              "      <th>Affected Values</th>\n",
              "    </tr>\n",
              "  </thead>\n",
              "  <tbody>\n",
              "    <tr>\n",
              "      <th>count</th>\n",
              "      <td>306.000000</td>\n",
              "      <td>306.000000</td>\n",
              "      <td>306.000000</td>\n",
              "      <td>306.000000</td>\n",
              "      <td>306.000000</td>\n",
              "      <td>306.000000</td>\n",
              "      <td>306.000000</td>\n",
              "      <td>306.000000</td>\n",
              "      <td>306.000000</td>\n",
              "      <td>306.000000</td>\n",
              "      <td>306.000000</td>\n",
              "      <td>306.000000</td>\n",
              "      <td>306.000000</td>\n",
              "    </tr>\n",
              "    <tr>\n",
              "      <th>mean</th>\n",
              "      <td>1.349346</td>\n",
              "      <td>38.854575</td>\n",
              "      <td>20.860711</td>\n",
              "      <td>0.209150</td>\n",
              "      <td>0.732026</td>\n",
              "      <td>0.797386</td>\n",
              "      <td>0.189542</td>\n",
              "      <td>0.496732</td>\n",
              "      <td>0.294118</td>\n",
              "      <td>0.457516</td>\n",
              "      <td>0.333333</td>\n",
              "      <td>0.248366</td>\n",
              "      <td>0.496732</td>\n",
              "    </tr>\n",
              "    <tr>\n",
              "      <th>std</th>\n",
              "      <td>0.277601</td>\n",
              "      <td>16.689427</td>\n",
              "      <td>6.225745</td>\n",
              "      <td>0.407368</td>\n",
              "      <td>0.443629</td>\n",
              "      <td>0.402606</td>\n",
              "      <td>0.392581</td>\n",
              "      <td>0.500808</td>\n",
              "      <td>0.456391</td>\n",
              "      <td>0.499008</td>\n",
              "      <td>0.472177</td>\n",
              "      <td>0.432773</td>\n",
              "      <td>0.500808</td>\n",
              "    </tr>\n",
              "    <tr>\n",
              "      <th>min</th>\n",
              "      <td>0.440000</td>\n",
              "      <td>5.000000</td>\n",
              "      <td>10.077936</td>\n",
              "      <td>0.000000</td>\n",
              "      <td>0.000000</td>\n",
              "      <td>0.000000</td>\n",
              "      <td>0.000000</td>\n",
              "      <td>0.000000</td>\n",
              "      <td>0.000000</td>\n",
              "      <td>0.000000</td>\n",
              "      <td>0.000000</td>\n",
              "      <td>0.000000</td>\n",
              "      <td>0.000000</td>\n",
              "    </tr>\n",
              "    <tr>\n",
              "      <th>25%</th>\n",
              "      <td>1.220000</td>\n",
              "      <td>25.000000</td>\n",
              "      <td>16.928286</td>\n",
              "      <td>0.000000</td>\n",
              "      <td>0.000000</td>\n",
              "      <td>1.000000</td>\n",
              "      <td>0.000000</td>\n",
              "      <td>0.000000</td>\n",
              "      <td>0.000000</td>\n",
              "      <td>0.000000</td>\n",
              "      <td>0.000000</td>\n",
              "      <td>0.000000</td>\n",
              "      <td>0.000000</td>\n",
              "    </tr>\n",
              "    <tr>\n",
              "      <th>50%</th>\n",
              "      <td>1.420000</td>\n",
              "      <td>40.000000</td>\n",
              "      <td>19.813209</td>\n",
              "      <td>0.000000</td>\n",
              "      <td>1.000000</td>\n",
              "      <td>1.000000</td>\n",
              "      <td>0.000000</td>\n",
              "      <td>0.000000</td>\n",
              "      <td>0.000000</td>\n",
              "      <td>0.000000</td>\n",
              "      <td>0.000000</td>\n",
              "      <td>0.000000</td>\n",
              "      <td>0.000000</td>\n",
              "    </tr>\n",
              "    <tr>\n",
              "      <th>75%</th>\n",
              "      <td>1.560000</td>\n",
              "      <td>50.000000</td>\n",
              "      <td>23.711124</td>\n",
              "      <td>0.000000</td>\n",
              "      <td>1.000000</td>\n",
              "      <td>1.000000</td>\n",
              "      <td>0.000000</td>\n",
              "      <td>1.000000</td>\n",
              "      <td>1.000000</td>\n",
              "      <td>1.000000</td>\n",
              "      <td>1.000000</td>\n",
              "      <td>0.000000</td>\n",
              "      <td>1.000000</td>\n",
              "    </tr>\n",
              "    <tr>\n",
              "      <th>max</th>\n",
              "      <td>1.830000</td>\n",
              "      <td>87.000000</td>\n",
              "      <td>61.983471</td>\n",
              "      <td>1.000000</td>\n",
              "      <td>1.000000</td>\n",
              "      <td>1.000000</td>\n",
              "      <td>1.000000</td>\n",
              "      <td>1.000000</td>\n",
              "      <td>1.000000</td>\n",
              "      <td>1.000000</td>\n",
              "      <td>1.000000</td>\n",
              "      <td>1.000000</td>\n",
              "      <td>1.000000</td>\n",
              "    </tr>\n",
              "  </tbody>\n",
              "</table>\n",
              "</div>\n",
              "      <button class=\"colab-df-convert\" onclick=\"convertToInteractive('df-520f8fe4-0fc8-4b98-9823-3d0498319106')\"\n",
              "              title=\"Convert this dataframe to an interactive table.\"\n",
              "              style=\"display:none;\">\n",
              "        \n",
              "  <svg xmlns=\"http://www.w3.org/2000/svg\" height=\"24px\"viewBox=\"0 0 24 24\"\n",
              "       width=\"24px\">\n",
              "    <path d=\"M0 0h24v24H0V0z\" fill=\"none\"/>\n",
              "    <path d=\"M18.56 5.44l.94 2.06.94-2.06 2.06-.94-2.06-.94-.94-2.06-.94 2.06-2.06.94zm-11 1L8.5 8.5l.94-2.06 2.06-.94-2.06-.94L8.5 2.5l-.94 2.06-2.06.94zm10 10l.94 2.06.94-2.06 2.06-.94-2.06-.94-.94-2.06-.94 2.06-2.06.94z\"/><path d=\"M17.41 7.96l-1.37-1.37c-.4-.4-.92-.59-1.43-.59-.52 0-1.04.2-1.43.59L10.3 9.45l-7.72 7.72c-.78.78-.78 2.05 0 2.83L4 21.41c.39.39.9.59 1.41.59.51 0 1.02-.2 1.41-.59l7.78-7.78 2.81-2.81c.8-.78.8-2.07 0-2.86zM5.41 20L4 18.59l7.72-7.72 1.47 1.35L5.41 20z\"/>\n",
              "  </svg>\n",
              "      </button>\n",
              "      \n",
              "  <style>\n",
              "    .colab-df-container {\n",
              "      display:flex;\n",
              "      flex-wrap:wrap;\n",
              "      gap: 12px;\n",
              "    }\n",
              "\n",
              "    .colab-df-convert {\n",
              "      background-color: #E8F0FE;\n",
              "      border: none;\n",
              "      border-radius: 50%;\n",
              "      cursor: pointer;\n",
              "      display: none;\n",
              "      fill: #1967D2;\n",
              "      height: 32px;\n",
              "      padding: 0 0 0 0;\n",
              "      width: 32px;\n",
              "    }\n",
              "\n",
              "    .colab-df-convert:hover {\n",
              "      background-color: #E2EBFA;\n",
              "      box-shadow: 0px 1px 2px rgba(60, 64, 67, 0.3), 0px 1px 3px 1px rgba(60, 64, 67, 0.15);\n",
              "      fill: #174EA6;\n",
              "    }\n",
              "\n",
              "    [theme=dark] .colab-df-convert {\n",
              "      background-color: #3B4455;\n",
              "      fill: #D2E3FC;\n",
              "    }\n",
              "\n",
              "    [theme=dark] .colab-df-convert:hover {\n",
              "      background-color: #434B5C;\n",
              "      box-shadow: 0px 1px 3px 1px rgba(0, 0, 0, 0.15);\n",
              "      filter: drop-shadow(0px 1px 2px rgba(0, 0, 0, 0.3));\n",
              "      fill: #FFFFFF;\n",
              "    }\n",
              "  </style>\n",
              "\n",
              "      <script>\n",
              "        const buttonEl =\n",
              "          document.querySelector('#df-520f8fe4-0fc8-4b98-9823-3d0498319106 button.colab-df-convert');\n",
              "        buttonEl.style.display =\n",
              "          google.colab.kernel.accessAllowed ? 'block' : 'none';\n",
              "\n",
              "        async function convertToInteractive(key) {\n",
              "          const element = document.querySelector('#df-520f8fe4-0fc8-4b98-9823-3d0498319106');\n",
              "          const dataTable =\n",
              "            await google.colab.kernel.invokeFunction('convertToInteractive',\n",
              "                                                     [key], {});\n",
              "          if (!dataTable) return;\n",
              "\n",
              "          const docLinkHtml = 'Like what you see? Visit the ' +\n",
              "            '<a target=\"_blank\" href=https://colab.research.google.com/notebooks/data_table.ipynb>data table notebook</a>'\n",
              "            + ' to learn more about interactive tables.';\n",
              "          element.innerHTML = '';\n",
              "          dataTable['output_type'] = 'display_data';\n",
              "          await google.colab.output.renderOutput(dataTable, element);\n",
              "          const docLink = document.createElement('div');\n",
              "          docLink.innerHTML = docLinkHtml;\n",
              "          element.appendChild(docLink);\n",
              "        }\n",
              "      </script>\n",
              "    </div>\n",
              "  </div>\n",
              "  "
            ]
          },
          "metadata": {},
          "execution_count": 17
        }
      ]
    },
    {
      "cell_type": "code",
      "source": [
        "diabetes_dataset['Affected Values'].value_counts()"
      ],
      "metadata": {
        "colab": {
          "base_uri": "https://localhost:8080/"
        },
        "id": "9gWMIwIuCzrX",
        "outputId": "d07f1815-9829-430c-c478-fce2a3940817"
      },
      "execution_count": 18,
      "outputs": [
        {
          "output_type": "execute_result",
          "data": {
            "text/plain": [
              "0    154\n",
              "1    152\n",
              "Name: Affected Values, dtype: int64"
            ]
          },
          "metadata": {},
          "execution_count": 18
        }
      ]
    },
    {
      "cell_type": "code",
      "source": [
        "diabetes_dataset.groupby('Affected Values').mean()"
      ],
      "metadata": {
        "colab": {
          "base_uri": "https://localhost:8080/",
          "height": 240
        },
        "id": "WiPa42XwFQoC",
        "outputId": "fcad25f2-9038-496d-f791-8b7b4d8f5ce6"
      },
      "execution_count": 19,
      "outputs": [
        {
          "output_type": "execute_result",
          "data": {
            "text/plain": [
              "                   Height     Weight        BMI  Other diease value  \\\n",
              "Affected Values                                                       \n",
              "0                1.193052  29.327922  20.620208            0.000000   \n",
              "1                1.507697  48.506579  21.104379            0.421053   \n",
              "\n",
              "                 Adequate Nutrition Values  Autoantibodies Values  \\\n",
              "Affected Values                                                     \n",
              "0                                 0.928571               1.000000   \n",
              "1                                 0.532895               0.592105   \n",
              "\n",
              "                 Impaired glucose metabolism values  Insulin taken value  \\\n",
              "Affected Values                                                            \n",
              "0                                          0.201299                  0.0   \n",
              "1                                          0.177632                  1.0   \n",
              "\n",
              "                 Family History affected in Type 1 Diabetes values  \\\n",
              "Affected Values                                                      \n",
              "0                                                         0.201299   \n",
              "1                                                         0.388158   \n",
              "\n",
              "                 Family History affected in Type 2 Diabetes values  \\\n",
              "Affected Values                                                      \n",
              "0                                                         0.376623   \n",
              "1                                                         0.539474   \n",
              "\n",
              "                 Hypoglycemis Values  \\\n",
              "Affected Values                        \n",
              "0                           0.000000   \n",
              "1                           0.671053   \n",
              "\n",
              "                 pancreatic disease affected in child values  \n",
              "Affected Values                                               \n",
              "0                                                        0.0  \n",
              "1                                                        0.5  "
            ],
            "text/html": [
              "\n",
              "  <div id=\"df-460b9868-9038-40fa-aee0-b921659f16d2\">\n",
              "    <div class=\"colab-df-container\">\n",
              "      <div>\n",
              "<style scoped>\n",
              "    .dataframe tbody tr th:only-of-type {\n",
              "        vertical-align: middle;\n",
              "    }\n",
              "\n",
              "    .dataframe tbody tr th {\n",
              "        vertical-align: top;\n",
              "    }\n",
              "\n",
              "    .dataframe thead th {\n",
              "        text-align: right;\n",
              "    }\n",
              "</style>\n",
              "<table border=\"1\" class=\"dataframe\">\n",
              "  <thead>\n",
              "    <tr style=\"text-align: right;\">\n",
              "      <th></th>\n",
              "      <th>Height</th>\n",
              "      <th>Weight</th>\n",
              "      <th>BMI</th>\n",
              "      <th>Other diease value</th>\n",
              "      <th>Adequate Nutrition Values</th>\n",
              "      <th>Autoantibodies Values</th>\n",
              "      <th>Impaired glucose metabolism values</th>\n",
              "      <th>Insulin taken value</th>\n",
              "      <th>Family History affected in Type 1 Diabetes values</th>\n",
              "      <th>Family History affected in Type 2 Diabetes values</th>\n",
              "      <th>Hypoglycemis Values</th>\n",
              "      <th>pancreatic disease affected in child values</th>\n",
              "    </tr>\n",
              "    <tr>\n",
              "      <th>Affected Values</th>\n",
              "      <th></th>\n",
              "      <th></th>\n",
              "      <th></th>\n",
              "      <th></th>\n",
              "      <th></th>\n",
              "      <th></th>\n",
              "      <th></th>\n",
              "      <th></th>\n",
              "      <th></th>\n",
              "      <th></th>\n",
              "      <th></th>\n",
              "      <th></th>\n",
              "    </tr>\n",
              "  </thead>\n",
              "  <tbody>\n",
              "    <tr>\n",
              "      <th>0</th>\n",
              "      <td>1.193052</td>\n",
              "      <td>29.327922</td>\n",
              "      <td>20.620208</td>\n",
              "      <td>0.000000</td>\n",
              "      <td>0.928571</td>\n",
              "      <td>1.000000</td>\n",
              "      <td>0.201299</td>\n",
              "      <td>0.0</td>\n",
              "      <td>0.201299</td>\n",
              "      <td>0.376623</td>\n",
              "      <td>0.000000</td>\n",
              "      <td>0.0</td>\n",
              "    </tr>\n",
              "    <tr>\n",
              "      <th>1</th>\n",
              "      <td>1.507697</td>\n",
              "      <td>48.506579</td>\n",
              "      <td>21.104379</td>\n",
              "      <td>0.421053</td>\n",
              "      <td>0.532895</td>\n",
              "      <td>0.592105</td>\n",
              "      <td>0.177632</td>\n",
              "      <td>1.0</td>\n",
              "      <td>0.388158</td>\n",
              "      <td>0.539474</td>\n",
              "      <td>0.671053</td>\n",
              "      <td>0.5</td>\n",
              "    </tr>\n",
              "  </tbody>\n",
              "</table>\n",
              "</div>\n",
              "      <button class=\"colab-df-convert\" onclick=\"convertToInteractive('df-460b9868-9038-40fa-aee0-b921659f16d2')\"\n",
              "              title=\"Convert this dataframe to an interactive table.\"\n",
              "              style=\"display:none;\">\n",
              "        \n",
              "  <svg xmlns=\"http://www.w3.org/2000/svg\" height=\"24px\"viewBox=\"0 0 24 24\"\n",
              "       width=\"24px\">\n",
              "    <path d=\"M0 0h24v24H0V0z\" fill=\"none\"/>\n",
              "    <path d=\"M18.56 5.44l.94 2.06.94-2.06 2.06-.94-2.06-.94-.94-2.06-.94 2.06-2.06.94zm-11 1L8.5 8.5l.94-2.06 2.06-.94-2.06-.94L8.5 2.5l-.94 2.06-2.06.94zm10 10l.94 2.06.94-2.06 2.06-.94-2.06-.94-.94-2.06-.94 2.06-2.06.94z\"/><path d=\"M17.41 7.96l-1.37-1.37c-.4-.4-.92-.59-1.43-.59-.52 0-1.04.2-1.43.59L10.3 9.45l-7.72 7.72c-.78.78-.78 2.05 0 2.83L4 21.41c.39.39.9.59 1.41.59.51 0 1.02-.2 1.41-.59l7.78-7.78 2.81-2.81c.8-.78.8-2.07 0-2.86zM5.41 20L4 18.59l7.72-7.72 1.47 1.35L5.41 20z\"/>\n",
              "  </svg>\n",
              "      </button>\n",
              "      \n",
              "  <style>\n",
              "    .colab-df-container {\n",
              "      display:flex;\n",
              "      flex-wrap:wrap;\n",
              "      gap: 12px;\n",
              "    }\n",
              "\n",
              "    .colab-df-convert {\n",
              "      background-color: #E8F0FE;\n",
              "      border: none;\n",
              "      border-radius: 50%;\n",
              "      cursor: pointer;\n",
              "      display: none;\n",
              "      fill: #1967D2;\n",
              "      height: 32px;\n",
              "      padding: 0 0 0 0;\n",
              "      width: 32px;\n",
              "    }\n",
              "\n",
              "    .colab-df-convert:hover {\n",
              "      background-color: #E2EBFA;\n",
              "      box-shadow: 0px 1px 2px rgba(60, 64, 67, 0.3), 0px 1px 3px 1px rgba(60, 64, 67, 0.15);\n",
              "      fill: #174EA6;\n",
              "    }\n",
              "\n",
              "    [theme=dark] .colab-df-convert {\n",
              "      background-color: #3B4455;\n",
              "      fill: #D2E3FC;\n",
              "    }\n",
              "\n",
              "    [theme=dark] .colab-df-convert:hover {\n",
              "      background-color: #434B5C;\n",
              "      box-shadow: 0px 1px 3px 1px rgba(0, 0, 0, 0.15);\n",
              "      filter: drop-shadow(0px 1px 2px rgba(0, 0, 0, 0.3));\n",
              "      fill: #FFFFFF;\n",
              "    }\n",
              "  </style>\n",
              "\n",
              "      <script>\n",
              "        const buttonEl =\n",
              "          document.querySelector('#df-460b9868-9038-40fa-aee0-b921659f16d2 button.colab-df-convert');\n",
              "        buttonEl.style.display =\n",
              "          google.colab.kernel.accessAllowed ? 'block' : 'none';\n",
              "\n",
              "        async function convertToInteractive(key) {\n",
              "          const element = document.querySelector('#df-460b9868-9038-40fa-aee0-b921659f16d2');\n",
              "          const dataTable =\n",
              "            await google.colab.kernel.invokeFunction('convertToInteractive',\n",
              "                                                     [key], {});\n",
              "          if (!dataTable) return;\n",
              "\n",
              "          const docLinkHtml = 'Like what you see? Visit the ' +\n",
              "            '<a target=\"_blank\" href=https://colab.research.google.com/notebooks/data_table.ipynb>data table notebook</a>'\n",
              "            + ' to learn more about interactive tables.';\n",
              "          element.innerHTML = '';\n",
              "          dataTable['output_type'] = 'display_data';\n",
              "          await google.colab.output.renderOutput(dataTable, element);\n",
              "          const docLink = document.createElement('div');\n",
              "          docLink.innerHTML = docLinkHtml;\n",
              "          element.appendChild(docLink);\n",
              "        }\n",
              "      </script>\n",
              "    </div>\n",
              "  </div>\n",
              "  "
            ]
          },
          "metadata": {},
          "execution_count": 19
        }
      ]
    },
    {
      "cell_type": "code",
      "source": [
        "# Seperate the dataset \n",
        "X = diabetes_dataset.drop(columns = ['Affected Values','HbA1c', 'Height', 'Weight', 'Duration of disease'])\n",
        "# print(X)\n",
        "Y = diabetes_dataset['Affected Values']\n",
        "# print(Y)"
      ],
      "metadata": {
        "id": "OkMH90Wx10V_"
      },
      "execution_count": 30,
      "outputs": []
    },
    {
      "cell_type": "markdown",
      "source": [
        "\n",
        "\n",
        "---\n",
        "\n",
        "\n",
        "# **Data Standarization**"
      ],
      "metadata": {
        "id": "9yjIkVhH358s"
      }
    },
    {
      "cell_type": "code",
      "source": [
        "scaler = StandardScaler()\n"
      ],
      "metadata": {
        "id": "07A97rgN4LqV"
      },
      "execution_count": 32,
      "outputs": []
    },
    {
      "cell_type": "code",
      "source": [
        "scaler.fit(X)"
      ],
      "metadata": {
        "colab": {
          "base_uri": "https://localhost:8080/"
        },
        "id": "MuH60iw9dBLR",
        "outputId": "192ed006-e0f4-4095-bb7c-c88757409748"
      },
      "execution_count": 33,
      "outputs": [
        {
          "output_type": "execute_result",
          "data": {
            "text/plain": [
              "StandardScaler()"
            ]
          },
          "metadata": {},
          "execution_count": 33
        }
      ]
    },
    {
      "cell_type": "code",
      "source": [
        "standardize_data = scaler.transform(X)\n",
        "print(standardize_data)"
      ],
      "metadata": {
        "colab": {
          "base_uri": "https://localhost:8080/"
        },
        "id": "8ZCzJlg-dISz",
        "outputId": "64b6261a-a41a-490d-c784-ff6e249384c7"
      },
      "execution_count": 34,
      "outputs": [
        {
          "output_type": "stream",
          "name": "stdout",
          "text": [
            "[[ 0.6480792  -0.51425948 -1.65278774 ... -0.91835369  1.41421356\n",
            "   1.73963093]\n",
            " [ 0.9039358  -0.51425948 -1.65278774 ...  1.08890509  1.41421356\n",
            "   1.73963093]\n",
            " [ 1.78322249 -0.51425948  0.60503837 ... -0.91835369 -0.70710678\n",
            "  -0.57483457]\n",
            " ...\n",
            " [-0.32958619 -0.51425948  0.60503837 ... -0.91835369 -0.70710678\n",
            "  -0.57483457]\n",
            " [-1.07520696 -0.51425948  0.60503837 ...  1.08890509 -0.70710678\n",
            "  -0.57483457]\n",
            " [-1.19433465 -0.51425948  0.60503837 ...  1.08890509 -0.70710678\n",
            "  -0.57483457]]\n"
          ]
        }
      ]
    },
    {
      "cell_type": "code",
      "source": [
        "X = standardize_data\n",
        "Y = diabetes_dataset['Affected Values']"
      ],
      "metadata": {
        "id": "79E7aUdsepoG"
      },
      "execution_count": 35,
      "outputs": []
    },
    {
      "cell_type": "code",
      "source": [
        "print(X)\n",
        "print(Y)"
      ],
      "metadata": {
        "colab": {
          "base_uri": "https://localhost:8080/"
        },
        "id": "EuG4BNyle4ol",
        "outputId": "a24c5a61-6947-46ea-dac1-0783fe5667b0"
      },
      "execution_count": 36,
      "outputs": [
        {
          "output_type": "stream",
          "name": "stdout",
          "text": [
            "[[ 0.6480792  -0.51425948 -1.65278774 ... -0.91835369  1.41421356\n",
            "   1.73963093]\n",
            " [ 0.9039358  -0.51425948 -1.65278774 ...  1.08890509  1.41421356\n",
            "   1.73963093]\n",
            " [ 1.78322249 -0.51425948  0.60503837 ... -0.91835369 -0.70710678\n",
            "  -0.57483457]\n",
            " ...\n",
            " [-0.32958619 -0.51425948  0.60503837 ... -0.91835369 -0.70710678\n",
            "  -0.57483457]\n",
            " [-1.07520696 -0.51425948  0.60503837 ...  1.08890509 -0.70710678\n",
            "  -0.57483457]\n",
            " [-1.19433465 -0.51425948  0.60503837 ...  1.08890509 -0.70710678\n",
            "  -0.57483457]]\n",
            "0      1\n",
            "1      1\n",
            "2      1\n",
            "3      1\n",
            "4      1\n",
            "      ..\n",
            "301    0\n",
            "302    0\n",
            "303    0\n",
            "304    0\n",
            "305    0\n",
            "Name: Affected Values, Length: 306, dtype: int64\n"
          ]
        }
      ]
    },
    {
      "cell_type": "markdown",
      "source": [
        "\n",
        "\n",
        "---\n",
        "\n"
      ],
      "metadata": {
        "id": "10PAjSmhfNsM"
      }
    },
    {
      "cell_type": "markdown",
      "source": [
        "\n",
        "\n",
        "---\n",
        "\n",
        "\n",
        "# **Train Test Split**"
      ],
      "metadata": {
        "id": "X765yz2_fCob"
      }
    },
    {
      "cell_type": "code",
      "source": [
        "X_train, X_test, Y_train, Y_test = train_test_split(X, Y, test_size=0.2, stratify=Y,  random_state=2)"
      ],
      "metadata": {
        "id": "Gv_Bm8mVffWV"
      },
      "execution_count": 37,
      "outputs": []
    },
    {
      "cell_type": "code",
      "source": [
        "print(X.shape, X_train.shape, X_test.shape)"
      ],
      "metadata": {
        "colab": {
          "base_uri": "https://localhost:8080/"
        },
        "id": "iawUzDbUgkkU",
        "outputId": "c38b9dc5-c6a3-4dc7-e970-97b5dfd97a9e"
      },
      "execution_count": 38,
      "outputs": [
        {
          "output_type": "stream",
          "name": "stdout",
          "text": [
            "(306, 10) (244, 10) (62, 10)\n"
          ]
        }
      ]
    },
    {
      "cell_type": "markdown",
      "source": [
        "\n",
        "\n",
        "---\n",
        "\n",
        "\n",
        "# **Training the Model**"
      ],
      "metadata": {
        "id": "Z6RtDc2dg78B"
      }
    },
    {
      "cell_type": "code",
      "source": [
        "classifier = svm.SVC(kernel='linear')"
      ],
      "metadata": {
        "id": "nzMk82xUhBEi"
      },
      "execution_count": 40,
      "outputs": []
    },
    {
      "cell_type": "code",
      "source": [
        "# training the support vector Machine Classifier\n",
        "classifier.fit(X_train, Y_train)"
      ],
      "metadata": {
        "colab": {
          "base_uri": "https://localhost:8080/"
        },
        "id": "b9_NzqDFhL4C",
        "outputId": "398bd1ff-051d-4399-a71e-6c7d47cde943"
      },
      "execution_count": 42,
      "outputs": [
        {
          "output_type": "execute_result",
          "data": {
            "text/plain": [
              "SVC(kernel='linear')"
            ]
          },
          "metadata": {},
          "execution_count": 42
        }
      ]
    },
    {
      "cell_type": "markdown",
      "source": [
        "### Model Valuation"
      ],
      "metadata": {
        "id": "DOrWITCchovf"
      }
    },
    {
      "cell_type": "code",
      "source": [
        ""
      ],
      "metadata": {
        "id": "h2vPvZVbhs6X"
      },
      "execution_count": null,
      "outputs": []
    },
    {
      "cell_type": "markdown",
      "source": [
        "### Accuracy Score"
      ],
      "metadata": {
        "id": "8k9fHGAXh0S5"
      }
    },
    {
      "cell_type": "code",
      "source": [
        "# Accuracy score for the training data\n",
        "X_train_prediction = classifier.predict(X_train)\n",
        "training_data_accuracy = accuracy_score(X_train_prediction, Y_train)\n",
        "print('Accuracy Score of the Training Data : ', training_data_accuracy)"
      ],
      "metadata": {
        "colab": {
          "base_uri": "https://localhost:8080/"
        },
        "id": "vX3BDLc1h6Xq",
        "outputId": "c81dfcce-25b0-4088-febc-18f22f44ef2a"
      },
      "execution_count": 44,
      "outputs": [
        {
          "output_type": "stream",
          "name": "stdout",
          "text": [
            "Accuracy Score of the Training Data :  1.0\n"
          ]
        }
      ]
    },
    {
      "cell_type": "code",
      "source": [
        "# Accuracy score for the test data\n",
        "X_test_prediction = classifier.predict(X_test)\n",
        "test_data_accuracy = accuracy_score(X_test_prediction, Y_test)\n",
        "print('Accuracy Score of the Test Data : ', test_data_accuracy)"
      ],
      "metadata": {
        "colab": {
          "base_uri": "https://localhost:8080/"
        },
        "id": "oDtPeX6DjX76",
        "outputId": "1a65f952-81b1-4554-8520-57abc9460b90"
      },
      "execution_count": 45,
      "outputs": [
        {
          "output_type": "stream",
          "name": "stdout",
          "text": [
            "Accuracy Score of the Test Data :  1.0\n"
          ]
        }
      ]
    },
    {
      "cell_type": "markdown",
      "source": [
        "# **Making the Prediction**\n",
        "\n",
        "---\n",
        "\n"
      ],
      "metadata": {
        "id": "Wa8djdbxj-Y-"
      }
    },
    {
      "cell_type": "code",
      "source": [
        "input_data = (24.888889, 0, 0, 1, 1, 1, 1, 0, 1, 1)\n",
        "input_data_as_numpy_array = np.asarray(input_data)\n",
        "input_data_reshaped = input_data_as_numpy_array.reshape(1,-1)\n",
        "\n",
        "std_data = scaler.transform(input_data_reshaped)\n",
        "# print(std_data)\n",
        "\n",
        "prediction = classifier.predict(std_data)\n",
        "# print('Prediction Value', prediction)\n",
        "\n",
        "if (prediction[0]==0):\n",
        "  print('The person is non Diabetic')\n",
        "else:\n",
        "  print('This person is diabetic')"
      ],
      "metadata": {
        "colab": {
          "base_uri": "https://localhost:8080/"
        },
        "id": "6Ts9e0u0kCvZ",
        "outputId": "d033d5bd-90e5-417f-b758-9be89778766b"
      },
      "execution_count": 53,
      "outputs": [
        {
          "output_type": "stream",
          "name": "stdout",
          "text": [
            "This person is diabetic\n"
          ]
        },
        {
          "output_type": "stream",
          "name": "stderr",
          "text": [
            "/usr/local/lib/python3.7/dist-packages/sklearn/base.py:451: UserWarning: X does not have valid feature names, but StandardScaler was fitted with feature names\n",
            "  \"X does not have valid feature names, but\"\n"
          ]
        }
      ]
    },
    {
      "cell_type": "code",
      "source": [
        "input_data = (32, 1, 1, 0, 0, 0, 0, 0, 1, 1)\n",
        "input_data_as_numpy_array = np.asarray(input_data)\n",
        "input_data_reshaped = input_data_as_numpy_array.reshape(1,-1)\n",
        "\n",
        "std_data = scaler.transform(input_data_reshaped)\n",
        "# print(std_data)\n",
        "\n",
        "prediction = classifier.predict(std_data)\n",
        "# print('Prediction Value', prediction)\n",
        "\n",
        "\n",
        "if (prediction[0]==0):\n",
        "  print('The person is non Diabetic')\n",
        "else:\n",
        "  print('This person is diabetic')"
      ],
      "metadata": {
        "colab": {
          "base_uri": "https://localhost:8080/"
        },
        "id": "vqmihunVmRY9",
        "outputId": "9296a5cf-4344-479f-d799-5c9b207a5c6e"
      },
      "execution_count": 52,
      "outputs": [
        {
          "output_type": "stream",
          "name": "stdout",
          "text": [
            "The person is non Diabetic\n"
          ]
        },
        {
          "output_type": "stream",
          "name": "stderr",
          "text": [
            "/usr/local/lib/python3.7/dist-packages/sklearn/base.py:451: UserWarning: X does not have valid feature names, but StandardScaler was fitted with feature names\n",
            "  \"X does not have valid feature names, but\"\n"
          ]
        }
      ]
    }
  ]
}