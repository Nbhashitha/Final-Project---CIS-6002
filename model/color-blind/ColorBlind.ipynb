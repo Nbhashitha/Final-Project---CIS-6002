{
  "nbformat": 4,
  "nbformat_minor": 0,
  "metadata": {
    "colab": {
      "name": "ColorBlind.ipynb",
      "provenance": [],
      "collapsed_sections": [],
      "authorship_tag": "ABX9TyNYUJEZph4uFSD+tgFDTxSb",
      "include_colab_link": true
    },
    "kernelspec": {
      "name": "python3",
      "display_name": "Python 3"
    },
    "language_info": {
      "name": "python"
    }
  },
  "cells": [
    {
      "cell_type": "markdown",
      "metadata": {
        "id": "view-in-github",
        "colab_type": "text"
      },
      "source": [
        "<a href=\"https://colab.research.google.com/github/codev-pro/disease-predictor/blob/main/model/color_blind/ColorBlind.ipynb\" target=\"_parent\"><img src=\"https://colab.research.google.com/assets/colab-badge.svg\" alt=\"Open In Colab\"/></a>"
      ]
    },
    {
      "cell_type": "code",
      "execution_count": 1,
      "metadata": {
        "id": "r_DahNxd_iZ6"
      },
      "outputs": [],
      "source": [
        "# Getting the training data\n",
        "training_data = [\n",
        "                 [0,0,0,0,1,0,'Carrier - Daughter'],[0,0,0,0,0,1,'Son (Carrier - Daughter)'],[0,0,0,0,1,1,'Son'],[0,0,0,0,1,1,'Daughters'],\n",
        "                 [1,0,0,0,0,0,'None'], [1,1,0,0,1,0,'Carrier - Daughter'], [0,0,1,1,1,0,'Son (Carrier - Daughter)'], [1,0,0,0,0,1,'Son 50% (50% Daughter - Carrier)'],\n",
        "                 [1,0,1,0,0,0,'Son 50% (50% Daughter - Carrier)'],[0,1,0,1,1,0, 'Son 50% & Daughter 50% (Carrier - 50% Daughter)'], [0,1,0,1,1,1,'50% Daughter / 50% Son (50% Daughter - Carrier)'],\n",
        "                 [1,0,1,1,0,1,'50% Daughter / 50% Sons (50% Daughter - Carrier / 50% Sons Don\\'t have)'],[1,1,1,1,1,1,'Sons & Daughters']\n",
        "]"
      ]
    },
    {
      "cell_type": "code",
      "source": [
        "# Headers for the data\n",
        "header = ['Father\\'s Father', 'Father\\'s Mother', 'Mother\\'s Father', 'Mother\\'s Mother', 'Father', 'Mother']"
      ],
      "metadata": {
        "id": "TfNGzA__CmiW"
      },
      "execution_count": 3,
      "outputs": []
    },
    {
      "cell_type": "code",
      "source": [
        "def unique_vals(rows, col):\n",
        "  \"\"\"Find the unique values for a column in a dataset\"\"\"\n",
        "  return set([row[col] for row in rows])"
      ],
      "metadata": {
        "id": "S-Qq0zjvR82T"
      },
      "execution_count": 4,
      "outputs": []
    },
    {
      "cell_type": "code",
      "source": [
        "def class_count(rows):\n",
        "  \"\"\"Counts the number of each type of example in a dataset\"\"\"\n",
        "  counts = {}\n",
        "  for row in rows:\n",
        "    label = row[-1]\n",
        "    if label not in counts:\n",
        "      counts[label] = 0\n",
        "    counts[label] += 1\n",
        "  return counts"
      ],
      "metadata": {
        "id": "6zY1rdD-SYEK"
      },
      "execution_count": 5,
      "outputs": []
    },
    {
      "cell_type": "code",
      "source": [
        "def is_numeric(value):\n",
        "  \"\"\"Test if a value is numeric\"\"\"\n",
        "  return isinstance(value, int) or isinstance(value, float)"
      ],
      "metadata": {
        "id": "MFFkxQSVS5jx"
      },
      "execution_count": 6,
      "outputs": []
    },
    {
      "cell_type": "code",
      "source": [
        "class Question:\n",
        "  \"\"\"A Question is used to partition a dataset\n",
        "\n",
        "  This class just records a 'column number' (eg: 0 & 1 for inputs).\n",
        "  The 'match' method is used to compare the feature value in an example to the feature values stored in the question\"\"\"\n",
        "\n",
        "  def __init__(self, column, value):\n",
        "      self.column = column\n",
        "      self.value = value\n",
        "\n",
        "  def match(self, example):\n",
        "    val = example[self.column]\n",
        "    if is_numeric(val):\n",
        "      return val >= self.value\n",
        "    else:\n",
        "      return val == self.value\n",
        "    \n",
        "  def __repr__(self):\n",
        "      condition = \"==\"\n",
        "      if is_numeric(self.value):\n",
        "        condition = \">=\"\n",
        "      return \"Is %s %s %s?\" % (\n",
        "          header[self.column], condition, str(self.value)\n",
        "      )\n",
        "    \n",
        "  def partition(rows, question):\n",
        "    \"\"\"Partition a dataset.\n",
        "\n",
        "    For each row in the dataset, check if it matches the question. If so, add it to 'true rows', otherwise, add it to 'false rows'.\"\"\"\n",
        "    true_rows, false_rows = [], []\n",
        "    for row in rows:\n",
        "      if question.match(row):\n",
        "        true_rows.append(rows)\n",
        "      else:\n",
        "        false_rows.append(row)\n",
        "    return true_rows, false_rows\n",
        "\n",
        "  def gini(rows):\n",
        "    \"\"\"Calculate the Gini Impurity for a list of rows.\"\"\"\n",
        "\n",
        "    counts = class_counts(rows)\n",
        "    impurity = 1\n",
        "    for lbl in counts:\n",
        "      prob_of_lbl = counts[lbl] / float(len(rows))\n",
        "      impurity -= prob_of_lbl**2\n",
        "    return impurity\n",
        "\n",
        "  def info_gain(left, right, current_uncertainty):\n",
        "    \"\"\"Information Gain.\n",
        "\n",
        "    The uncertainty of the starting node, minus the weighted impurity of two child nodes\"\"\"\n",
        "    p = float(len(left) / (len(left)+len(right)))\n",
        "    return (current_uncertainty - p * gini(left) - (1-p) * gini(right))\n",
        "\n",
        "  def find_best_split(rows):\n",
        "    \"\"\"Find the best question to ask by iterating over every feature / value and calculating the information gain\"\"\"\n",
        "    best_gain = 0\n",
        "    best_question = None\n",
        "    current_uncertainty = gini(rows)\n",
        "    n_features = len(rows[0]) - 1\n",
        "\n",
        "    for col in range(n_features):\n",
        "      values = set([row[col] for row in rows])\n",
        "      for val in values:\n",
        "        question = Question(col, val)\n",
        "        true_rows, false_rows = partition(rows, question)"
      ],
      "metadata": {
        "id": "ganEytsOTfft"
      },
      "execution_count": 9,
      "outputs": []
    },
    {
      "cell_type": "code",
      "source": [
        "class Leaf:\n",
        "  \"\"\"A Leaf node classifies data.\n",
        "\n",
        "  This holds a dictionary of class number of times it appears in the rows from the training data that reach this leaf.\"\"\"\n",
        "  def __init__(self, rows):\n",
        "    self.predictions = class_counts(rows)"
      ],
      "metadata": {
        "id": "tAyp3W3QeKVX"
      },
      "execution_count": 10,
      "outputs": []
    },
    {
      "cell_type": "code",
      "source": [
        "class Decision_Node:\n",
        "  \"\"\"A Decision Node asks a question.\n",
        "\n",
        "  This holds a reference to the question, and to the two child nodes.\"\"\"\n",
        "  def __init__(self, question, true_branch, false_branch):\n",
        "    self.question = question\n",
        "    self.true_branch = true_branch\n",
        "    self.false_branch = false_branch"
      ],
      "metadata": {
        "id": "_4us6HxaeitZ"
      },
      "execution_count": 11,
      "outputs": []
    },
    {
      "cell_type": "code",
      "source": [
        "def build_tree(rows):\n",
        "  \"\"\"Builds the tree.\"\"\"\n",
        "\n",
        "  gain, question = find_best_split(rows)\n",
        "  if gain == 0:\n",
        "    return Leaf(rows)\n",
        "  \n",
        "  true_rows, false_rows = partition(rows, question)\n",
        "  true_branch = build_tree(true_rows)\n",
        "  false_branch = build_tree(false_rows)\n",
        "  return Decision_Node(question, true_branch, false_branch)\n",
        "\n",
        "def print_tree(node, spacing=\"\"):\n",
        "  \"\"\"World's most elegant tree printing function\"\"\"\n",
        "\n",
        "  if isinstance(node, Leaf):\n",
        "    print(spacing + \"Predict\", node.prediction)\n",
        "    return\n",
        "\n",
        "  print(spacing + str(node.question))\n",
        "  print(spacing+'--> True:')\n",
        "  print_tree(node.true_branch, spacing + \" \")\n",
        "  print(spacing+'--> False:')\n",
        "  print_tree(node.false_branch, spacing + \" \")\n",
        "\n",
        "def classify(row, node):\n",
        "  if isinstance(node, Leaf):\n",
        "    return node.predictions\n",
        "\n",
        "  if node.question.match(row):\n",
        "    return classify(row, node.true_branch)\n",
        "  else:\n",
        "    return classify(row, node.false_branch)"
      ],
      "metadata": {
        "id": "sWhA4xZvf9ny"
      },
      "execution_count": 12,
      "outputs": []
    },
    {
      "cell_type": "code",
      "source": [
        "if __name__ == '__main__':\n",
        "  my_tree = build_tree(training_data)\n",
        "  print_tree(my_tree)\n",
        "\n",
        "  testing_data = [\n",
        "                 [0,0,0,0,1,0,'Carrier - Daughter'],[0,0,0,0,0,1,'Son (Carrier - Daughter)'],[0,0,0,0,1,1,'Son'],[0,0,0,0,1,1,'Daughters'],\n",
        "                 [1,0,0,0,0,0,'None'], [1,1,0,0,1,0,'Carrier - Daughter'], [0,0,1,1,1,0,'Son (Carrier - Daughter)'], [1,0,0,0,0,1,'Son 50% (50% Daughter - Carrier)'],\n",
        "                 [1,0,1,0,0,0,'Son 50% (50% Daughter - Carrier)'],[0,1,0,1,1,0, 'Son 50% & Daughter 50% (Carrier - 50% Daughter)'], [0,1,0,1,1,1,'50% Daughter / 50% Son (50% Daughter - Carrier)'],\n",
        "                 [1,0,1,1,0,1,'50% Daughter / 50% Sons (50% Daughter - Carrier / 50% Sons Don\\'t have)'],[1,1,1,1,1,1,'Sons & Daughters']\n",
        "]\n",
        "\n",
        "for row in testing_data:\n",
        "  print(\"Actual: %s. Predicted: %s\" % (row[-1], print_leaf(classify(row, my_tree))))"
      ],
      "metadata": {
        "id": "RQ_N_xP-lJds"
      },
      "execution_count": null,
      "outputs": []
    }
  ]
}